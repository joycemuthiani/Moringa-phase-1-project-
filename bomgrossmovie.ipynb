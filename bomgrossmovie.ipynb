{
 "cells": [
  {
   "cell_type": "markdown",
   "id": "7171e27d",
   "metadata": {},
   "source": [
    "# BUSINESS UNDERSTANDING \n",
    "Microsoft sees the success of major companies in developing original video content.Based on this observation microsoft is eager to join the league by establishing a new movie studio.Unfortunately, they are unfamiliar with film creation.This project will be investigating the current top_performing film genres at the box office.The aim is to convert this findings into actionable insights ,that can be used to guide the head of microsoft's new movie studio to make decisions on the best types of films to produce."
   ]
  },
  {
   "cell_type": "markdown",
   "id": "b205cbd8",
   "metadata": {},
   "source": [
    "# Data understanding\n",
    "This data was collected from bomgrossmovie."
   ]
  },
  {
   "cell_type": "code",
   "execution_count": 1,
   "id": "c6197163",
   "metadata": {
    "ExecuteTime": {
     "end_time": "2023-12-06T15:37:54.657212Z",
     "start_time": "2023-12-06T15:37:54.636Z"
    }
   },
   "outputs": [],
   "source": [
    "# import libraries needed for this task\n",
    "import pandas as pd\n",
    "import numpy as np\n",
    "import matplotlib.pyplot as plt\n",
    "import seaborn as sns"
   ]
  },
  {
   "cell_type": "markdown",
   "id": "340fb8b172638f23",
   "metadata": {},
   "source": [
    "Import Data, we will use read_csv to import the data"
   ]
  },
  {
   "cell_type": "code",
   "execution_count": 144,
   "id": "3076040196809855",
   "metadata": {
    "ExecuteTime": {
     "end_time": "2023-12-06T15:37:55.018474Z",
     "start_time": "2023-12-06T15:37:54.963506Z"
    }
   },
   "outputs": [],
   "source": [
    "data = pd.read_csv(\"./data/bom.movie_gross.csv\")"
   ]
  },
  {
   "cell_type": "markdown",
   "id": "d8bb65499820d313",
   "metadata": {},
   "source": [
    "Inspect the data "
   ]
  },
  {
   "cell_type": "code",
   "execution_count": 145,
   "id": "bdd41712ea3c7ffb",
   "metadata": {
    "ExecuteTime": {
     "end_time": "2023-12-06T15:37:55.328048Z",
     "start_time": "2023-12-06T15:37:55.316883Z"
    }
   },
   "outputs": [
    {
     "data": {
      "text/html": [
       "<div>\n",
       "<style scoped>\n",
       "    .dataframe tbody tr th:only-of-type {\n",
       "        vertical-align: middle;\n",
       "    }\n",
       "\n",
       "    .dataframe tbody tr th {\n",
       "        vertical-align: top;\n",
       "    }\n",
       "\n",
       "    .dataframe thead th {\n",
       "        text-align: right;\n",
       "    }\n",
       "</style>\n",
       "<table border=\"1\" class=\"dataframe\">\n",
       "  <thead>\n",
       "    <tr style=\"text-align: right;\">\n",
       "      <th></th>\n",
       "      <th>title</th>\n",
       "      <th>studio</th>\n",
       "      <th>domestic_gross</th>\n",
       "      <th>foreign_gross</th>\n",
       "      <th>year</th>\n",
       "    </tr>\n",
       "  </thead>\n",
       "  <tbody>\n",
       "    <tr>\n",
       "      <th>0</th>\n",
       "      <td>Toy Story 3</td>\n",
       "      <td>BV</td>\n",
       "      <td>415000000.0</td>\n",
       "      <td>652000000</td>\n",
       "      <td>2010</td>\n",
       "    </tr>\n",
       "    <tr>\n",
       "      <th>1</th>\n",
       "      <td>Alice in Wonderland (2010)</td>\n",
       "      <td>BV</td>\n",
       "      <td>334200000.0</td>\n",
       "      <td>691300000</td>\n",
       "      <td>2010</td>\n",
       "    </tr>\n",
       "    <tr>\n",
       "      <th>2</th>\n",
       "      <td>Harry Potter and the Deathly Hallows Part 1</td>\n",
       "      <td>WB</td>\n",
       "      <td>296000000.0</td>\n",
       "      <td>664300000</td>\n",
       "      <td>2010</td>\n",
       "    </tr>\n",
       "    <tr>\n",
       "      <th>3</th>\n",
       "      <td>Inception</td>\n",
       "      <td>WB</td>\n",
       "      <td>292600000.0</td>\n",
       "      <td>535700000</td>\n",
       "      <td>2010</td>\n",
       "    </tr>\n",
       "    <tr>\n",
       "      <th>4</th>\n",
       "      <td>Shrek Forever After</td>\n",
       "      <td>P/DW</td>\n",
       "      <td>238700000.0</td>\n",
       "      <td>513900000</td>\n",
       "      <td>2010</td>\n",
       "    </tr>\n",
       "  </tbody>\n",
       "</table>\n",
       "</div>"
      ],
      "text/plain": [
       "                                         title studio  domestic_gross  \\\n",
       "0                                  Toy Story 3     BV     415000000.0   \n",
       "1                   Alice in Wonderland (2010)     BV     334200000.0   \n",
       "2  Harry Potter and the Deathly Hallows Part 1     WB     296000000.0   \n",
       "3                                    Inception     WB     292600000.0   \n",
       "4                          Shrek Forever After   P/DW     238700000.0   \n",
       "\n",
       "  foreign_gross  year  \n",
       "0     652000000  2010  \n",
       "1     691300000  2010  \n",
       "2     664300000  2010  \n",
       "3     535700000  2010  \n",
       "4     513900000  2010  "
      ]
     },
     "execution_count": 145,
     "metadata": {},
     "output_type": "execute_result"
    }
   ],
   "source": [
    "data.head()"
   ]
  },
  {
   "cell_type": "code",
   "execution_count": 146,
   "id": "76bc63eff3ecd042",
   "metadata": {
    "ExecuteTime": {
     "end_time": "2023-12-06T15:37:55.615727Z",
     "start_time": "2023-12-06T15:37:55.605314Z"
    }
   },
   "outputs": [
    {
     "data": {
      "text/html": [
       "<div>\n",
       "<style scoped>\n",
       "    .dataframe tbody tr th:only-of-type {\n",
       "        vertical-align: middle;\n",
       "    }\n",
       "\n",
       "    .dataframe tbody tr th {\n",
       "        vertical-align: top;\n",
       "    }\n",
       "\n",
       "    .dataframe thead th {\n",
       "        text-align: right;\n",
       "    }\n",
       "</style>\n",
       "<table border=\"1\" class=\"dataframe\">\n",
       "  <thead>\n",
       "    <tr style=\"text-align: right;\">\n",
       "      <th></th>\n",
       "      <th>title</th>\n",
       "      <th>studio</th>\n",
       "      <th>domestic_gross</th>\n",
       "      <th>foreign_gross</th>\n",
       "      <th>year</th>\n",
       "    </tr>\n",
       "  </thead>\n",
       "  <tbody>\n",
       "    <tr>\n",
       "      <th>3382</th>\n",
       "      <td>The Quake</td>\n",
       "      <td>Magn.</td>\n",
       "      <td>6200.0</td>\n",
       "      <td>NaN</td>\n",
       "      <td>2018</td>\n",
       "    </tr>\n",
       "    <tr>\n",
       "      <th>3383</th>\n",
       "      <td>Edward II (2018 re-release)</td>\n",
       "      <td>FM</td>\n",
       "      <td>4800.0</td>\n",
       "      <td>NaN</td>\n",
       "      <td>2018</td>\n",
       "    </tr>\n",
       "    <tr>\n",
       "      <th>3384</th>\n",
       "      <td>El Pacto</td>\n",
       "      <td>Sony</td>\n",
       "      <td>2500.0</td>\n",
       "      <td>NaN</td>\n",
       "      <td>2018</td>\n",
       "    </tr>\n",
       "    <tr>\n",
       "      <th>3385</th>\n",
       "      <td>The Swan</td>\n",
       "      <td>Synergetic</td>\n",
       "      <td>2400.0</td>\n",
       "      <td>NaN</td>\n",
       "      <td>2018</td>\n",
       "    </tr>\n",
       "    <tr>\n",
       "      <th>3386</th>\n",
       "      <td>An Actor Prepares</td>\n",
       "      <td>Grav.</td>\n",
       "      <td>1700.0</td>\n",
       "      <td>NaN</td>\n",
       "      <td>2018</td>\n",
       "    </tr>\n",
       "  </tbody>\n",
       "</table>\n",
       "</div>"
      ],
      "text/plain": [
       "                            title      studio  domestic_gross foreign_gross  \\\n",
       "3382                    The Quake       Magn.          6200.0           NaN   \n",
       "3383  Edward II (2018 re-release)          FM          4800.0           NaN   \n",
       "3384                     El Pacto        Sony          2500.0           NaN   \n",
       "3385                     The Swan  Synergetic          2400.0           NaN   \n",
       "3386            An Actor Prepares       Grav.          1700.0           NaN   \n",
       "\n",
       "      year  \n",
       "3382  2018  \n",
       "3383  2018  \n",
       "3384  2018  \n",
       "3385  2018  \n",
       "3386  2018  "
      ]
     },
     "execution_count": 146,
     "metadata": {},
     "output_type": "execute_result"
    }
   ],
   "source": [
    "data.tail()"
   ]
  },
  {
   "cell_type": "code",
   "execution_count": 147,
   "id": "b6b9a5ec40a93982",
   "metadata": {
    "ExecuteTime": {
     "end_time": "2023-12-06T15:37:55.860204Z",
     "start_time": "2023-12-06T15:37:55.846383Z"
    }
   },
   "outputs": [],
   "source": [
    "#convert domestic_gross and foreign_gross to numeric\n",
    "data['domestic_gross'] = pd.to_numeric(data['domestic_gross'], errors='coerce')\n",
    "data['foreign_gross'] = pd.to_numeric(data['foreign_gross'], errors='coerce')"
   ]
  },
  {
   "cell_type": "code",
   "execution_count": 148,
   "id": "c5d9b8eed33430de",
   "metadata": {
    "ExecuteTime": {
     "end_time": "2023-12-06T15:37:56.136851Z",
     "start_time": "2023-12-06T15:37:56.086443Z"
    },
    "scrolled": true
   },
   "outputs": [
    {
     "name": "stdout",
     "output_type": "stream",
     "text": [
      "<class 'pandas.core.frame.DataFrame'>\n",
      "RangeIndex: 3387 entries, 0 to 3386\n",
      "Data columns (total 5 columns):\n",
      " #   Column          Non-Null Count  Dtype  \n",
      "---  ------          --------------  -----  \n",
      " 0   title           3387 non-null   object \n",
      " 1   studio          3382 non-null   object \n",
      " 2   domestic_gross  3359 non-null   float64\n",
      " 3   foreign_gross   2032 non-null   float64\n",
      " 4   year            3387 non-null   int64  \n",
      "dtypes: float64(2), int64(1), object(2)\n",
      "memory usage: 132.4+ KB\n"
     ]
    }
   ],
   "source": [
    "data.info()"
   ]
  },
  {
   "cell_type": "markdown",
   "id": "469b9357",
   "metadata": {},
   "source": [
    "# Descriptive statistics for the data"
   ]
  },
  {
   "cell_type": "code",
   "execution_count": 149,
   "id": "b2a3cda26468ac44",
   "metadata": {
    "ExecuteTime": {
     "end_time": "2023-12-06T15:37:56.296618Z",
     "start_time": "2023-12-06T15:37:56.230302Z"
    }
   },
   "outputs": [
    {
     "data": {
      "text/html": [
       "<div>\n",
       "<style scoped>\n",
       "    .dataframe tbody tr th:only-of-type {\n",
       "        vertical-align: middle;\n",
       "    }\n",
       "\n",
       "    .dataframe tbody tr th {\n",
       "        vertical-align: top;\n",
       "    }\n",
       "\n",
       "    .dataframe thead th {\n",
       "        text-align: right;\n",
       "    }\n",
       "</style>\n",
       "<table border=\"1\" class=\"dataframe\">\n",
       "  <thead>\n",
       "    <tr style=\"text-align: right;\">\n",
       "      <th></th>\n",
       "      <th>domestic_gross</th>\n",
       "      <th>foreign_gross</th>\n",
       "      <th>year</th>\n",
       "    </tr>\n",
       "  </thead>\n",
       "  <tbody>\n",
       "    <tr>\n",
       "      <th>count</th>\n",
       "      <td>3.359000e+03</td>\n",
       "      <td>2.032000e+03</td>\n",
       "      <td>3387.000000</td>\n",
       "    </tr>\n",
       "    <tr>\n",
       "      <th>mean</th>\n",
       "      <td>2.874585e+07</td>\n",
       "      <td>7.505704e+07</td>\n",
       "      <td>2013.958075</td>\n",
       "    </tr>\n",
       "    <tr>\n",
       "      <th>std</th>\n",
       "      <td>6.698250e+07</td>\n",
       "      <td>1.375294e+08</td>\n",
       "      <td>2.478141</td>\n",
       "    </tr>\n",
       "    <tr>\n",
       "      <th>min</th>\n",
       "      <td>1.000000e+02</td>\n",
       "      <td>6.000000e+02</td>\n",
       "      <td>2010.000000</td>\n",
       "    </tr>\n",
       "    <tr>\n",
       "      <th>25%</th>\n",
       "      <td>1.200000e+05</td>\n",
       "      <td>3.775000e+06</td>\n",
       "      <td>2012.000000</td>\n",
       "    </tr>\n",
       "    <tr>\n",
       "      <th>50%</th>\n",
       "      <td>1.400000e+06</td>\n",
       "      <td>1.890000e+07</td>\n",
       "      <td>2014.000000</td>\n",
       "    </tr>\n",
       "    <tr>\n",
       "      <th>75%</th>\n",
       "      <td>2.790000e+07</td>\n",
       "      <td>7.505000e+07</td>\n",
       "      <td>2016.000000</td>\n",
       "    </tr>\n",
       "    <tr>\n",
       "      <th>max</th>\n",
       "      <td>9.367000e+08</td>\n",
       "      <td>9.605000e+08</td>\n",
       "      <td>2018.000000</td>\n",
       "    </tr>\n",
       "  </tbody>\n",
       "</table>\n",
       "</div>"
      ],
      "text/plain": [
       "       domestic_gross  foreign_gross         year\n",
       "count    3.359000e+03   2.032000e+03  3387.000000\n",
       "mean     2.874585e+07   7.505704e+07  2013.958075\n",
       "std      6.698250e+07   1.375294e+08     2.478141\n",
       "min      1.000000e+02   6.000000e+02  2010.000000\n",
       "25%      1.200000e+05   3.775000e+06  2012.000000\n",
       "50%      1.400000e+06   1.890000e+07  2014.000000\n",
       "75%      2.790000e+07   7.505000e+07  2016.000000\n",
       "max      9.367000e+08   9.605000e+08  2018.000000"
      ]
     },
     "execution_count": 149,
     "metadata": {},
     "output_type": "execute_result"
    }
   ],
   "source": [
    "data.describe()"
   ]
  },
  {
   "cell_type": "code",
   "execution_count": 150,
   "id": "b37f0f8c75a9f351",
   "metadata": {
    "ExecuteTime": {
     "end_time": "2023-12-06T15:37:56.565959Z",
     "start_time": "2023-12-06T15:37:56.528169Z"
    }
   },
   "outputs": [
    {
     "data": {
      "text/plain": [
       "title                0\n",
       "studio               5\n",
       "domestic_gross      28\n",
       "foreign_gross     1355\n",
       "year                 0\n",
       "dtype: int64"
      ]
     },
     "execution_count": 150,
     "metadata": {},
     "output_type": "execute_result"
    }
   ],
   "source": [
    "data.isnull().sum()"
   ]
  },
  {
   "cell_type": "markdown",
   "id": "96588604cb8aac95",
   "metadata": {},
   "source": [
    "## From the data: \n",
    "\n",
    "- ##### We can see that there are 3387 rows and 5 columns\n",
    "- ##### There are 3 columns with null values\n",
    "- ##### The columns with null values are: domestic_gross, foreign_gross, and year\n",
    "- ##### The column with the most null values is foreign_gross with 2007 null values\n"
   ]
  },
  {
   "cell_type": "markdown",
   "id": "8249e61f23f32489",
   "metadata": {},
   "source": [
    "## Data Cleaning \n",
    "<hr/> "
   ]
  },
  {
   "cell_type": "code",
   "execution_count": 151,
   "id": "aad48e67b8e734ec",
   "metadata": {
    "ExecuteTime": {
     "end_time": "2023-12-06T15:37:57.142336Z",
     "start_time": "2023-12-06T15:37:57.134409Z"
    },
    "scrolled": true
   },
   "outputs": [
    {
     "data": {
      "text/plain": [
       "studio\n",
       "IFC           166\n",
       "Uni.          147\n",
       "WB            140\n",
       "Fox           136\n",
       "Magn.         136\n",
       "             ... \n",
       "E1              1\n",
       "PI              1\n",
       "ELS             1\n",
       "PalT            1\n",
       "Synergetic      1\n",
       "Name: count, Length: 257, dtype: int64"
      ]
     },
     "execution_count": 151,
     "metadata": {},
     "output_type": "execute_result"
    }
   ],
   "source": [
    "data['studio'].value_counts()"
   ]
  },
  {
   "cell_type": "code",
   "execution_count": 152,
   "id": "786240f63d2bf24d",
   "metadata": {
    "ExecuteTime": {
     "end_time": "2023-12-06T15:37:57.414059Z",
     "start_time": "2023-12-06T15:37:57.411102Z"
    },
    "scrolled": true
   },
   "outputs": [
    {
     "data": {
      "text/plain": [
       "domestic_gross\n",
       "1100000.0      32\n",
       "1000000.0      30\n",
       "1300000.0      30\n",
       "1200000.0      25\n",
       "1400000.0      23\n",
       "               ..\n",
       "125200000.0     1\n",
       "134500000.0     1\n",
       "56700000.0      1\n",
       "58200000.0      1\n",
       "2400.0          1\n",
       "Name: count, Length: 1797, dtype: int64"
      ]
     },
     "execution_count": 152,
     "metadata": {},
     "output_type": "execute_result"
    }
   ],
   "source": [
    "data['domestic_gross'].value_counts()"
   ]
  },
  {
   "cell_type": "code",
   "execution_count": 153,
   "id": "26e19e667614e1c7",
   "metadata": {
    "ExecuteTime": {
     "end_time": "2023-12-06T15:37:58.068017Z",
     "start_time": "2023-12-06T15:37:58.046446Z"
    },
    "scrolled": true
   },
   "outputs": [
    {
     "data": {
      "text/plain": [
       "foreign_gross\n",
       "1200000.0      23\n",
       "1100000.0      14\n",
       "1900000.0      12\n",
       "4200000.0      12\n",
       "2500000.0      11\n",
       "               ..\n",
       "96300000.0      1\n",
       "138300000.0     1\n",
       "63100000.0      1\n",
       "118100000.0     1\n",
       "30000.0         1\n",
       "Name: count, Length: 1199, dtype: int64"
      ]
     },
     "execution_count": 153,
     "metadata": {},
     "output_type": "execute_result"
    }
   ],
   "source": [
    "data['foreign_gross'].value_counts()"
   ]
  },
  {
   "cell_type": "code",
   "execution_count": 154,
   "id": "524e39a99644cb0b",
   "metadata": {
    "ExecuteTime": {
     "end_time": "2023-12-06T15:37:58.388697Z",
     "start_time": "2023-12-06T15:37:58.351742Z"
    }
   },
   "outputs": [
    {
     "data": {
      "text/plain": [
       "year\n",
       "2015    450\n",
       "2016    436\n",
       "2012    400\n",
       "2011    399\n",
       "2014    395\n",
       "2013    350\n",
       "2010    328\n",
       "2017    321\n",
       "2018    308\n",
       "Name: count, dtype: int64"
      ]
     },
     "execution_count": 154,
     "metadata": {},
     "output_type": "execute_result"
    }
   ],
   "source": [
    "data['year'].value_counts()"
   ]
  },
  {
   "cell_type": "code",
   "execution_count": 155,
   "id": "ca3a3dd9e9075061",
   "metadata": {
    "ExecuteTime": {
     "end_time": "2023-12-06T15:37:59.575893Z",
     "start_time": "2023-12-06T15:37:59.178364Z"
    },
    "scrolled": false
   },
   "outputs": [
    {
     "data": {
      "text/plain": [
       "<Axes: xlabel='year'>"
      ]
     },
     "execution_count": 155,
     "metadata": {},
     "output_type": "execute_result"
    },
    {
     "data": {
      "image/png": "[encoded data removed]",
      "text/plain": [
       "<Figure size 640x480 with 1 Axes>"
      ]
     },
     "metadata": {},
     "output_type": "display_data"
    }
   ],
   "source": [
    "data['year'].value_counts().plot(kind='bar')"
   ]
  },
  {
   "cell_type": "code",
   "execution_count": 156,
   "id": "22289daa1ae22efb",
   "metadata": {
    "ExecuteTime": {
     "end_time": "2023-12-06T15:37:59.788866Z",
     "start_time": "2023-12-06T15:37:59.594211Z"
    }
   },
   "outputs": [
    {
     "data": {
      "text/plain": [
       "<Axes: xlabel='year'>"
      ]
     },
     "execution_count": 156,
     "metadata": {},
     "output_type": "execute_result"
    },
    {
     "data": {
      "image/png": "[encoded data removed]",
      "text/plain": [
       "<Figure size 640x480 with 1 Axes>"
      ]
     },
     "metadata": {},
     "output_type": "display_data"
    }
   ],
   "source": [
    "data['year'].value_counts().plot(kind='bar')"
   ]
  },
  {
   "cell_type": "code",
   "execution_count": 157,
   "id": "b482a15cae5a0877",
   "metadata": {
    "ExecuteTime": {
     "end_time": "2023-12-06T15:37:59.958283Z",
     "start_time": "2023-12-06T15:37:59.932053Z"
    }
   },
   "outputs": [],
   "source": [
    "# fill NA with mean of the column  for the domestic_gross  and foreign_gross columns\n",
    "\n",
    "data['domestic_gross'].fillna(data['domestic_gross'].mean(), inplace=True)\n"
   ]
  },
  {
   "cell_type": "code",
   "execution_count": 158,
   "id": "5037bec6851fe0ba",
   "metadata": {
    "ExecuteTime": {
     "end_time": "2023-12-06T15:38:00.484585Z",
     "start_time": "2023-12-06T15:38:00.470773Z"
    }
   },
   "outputs": [
    {
     "data": {
      "text/plain": [
       "title                0\n",
       "studio               5\n",
       "domestic_gross       0\n",
       "foreign_gross     1355\n",
       "year                 0\n",
       "dtype: int64"
      ]
     },
     "execution_count": 158,
     "metadata": {},
     "output_type": "execute_result"
    }
   ],
   "source": [
    "#check to see if the null values were filled\n",
    "data.isnull().sum()"
   ]
  },
  {
   "cell_type": "code",
   "execution_count": 159,
   "id": "656b6d9b6db521f0",
   "metadata": {
    "ExecuteTime": {
     "end_time": "2023-12-06T15:38:01.076001Z",
     "start_time": "2023-12-06T15:38:01.063416Z"
    }
   },
   "outputs": [
    {
     "data": {
      "text/plain": [
       "Index(['title', 'studio', 'domestic_gross', 'foreign_gross', 'year'], dtype='object')"
      ]
     },
     "execution_count": 159,
     "metadata": {},
     "output_type": "execute_result"
    }
   ],
   "source": [
    "#check columns \n",
    "data.columns"
   ]
  },
  {
   "cell_type": "code",
   "execution_count": 160,
   "id": "ec6441bd2de6d53b",
   "metadata": {
    "ExecuteTime": {
     "end_time": "2023-12-06T15:38:01.620891Z",
     "start_time": "2023-12-06T15:38:01.615103Z"
    }
   },
   "outputs": [
    {
     "data": {
      "text/plain": [
       "title             Star Wars: The Force Awakens\n",
       "studio                                      BV\n",
       "domestic_gross                     936700000.0\n",
       "foreign_gross                              NaN\n",
       "year                                      2015\n",
       "Name: 1872, dtype: object"
      ]
     },
     "execution_count": 160,
     "metadata": {},
     "output_type": "execute_result"
    }
   ],
   "source": [
    "#find the most sold movie title based on domestic_gross and foreign_gross\n",
    "data.loc[data['domestic_gross'].idxmax()]\n"
   ]
  },
  {
   "cell_type": "markdown",
   "id": "f0ffd9d9",
   "metadata": {},
   "source": [
    "# Top 5 most sold movies based on domestic_gross "
   ]
  },
  {
   "cell_type": "code",
   "execution_count": 161,
   "id": "9d059383b232315d",
   "metadata": {
    "ExecuteTime": {
     "end_time": "2023-12-06T15:38:03.869783Z",
     "start_time": "2023-12-06T15:38:03.851058Z"
    }
   },
   "outputs": [
    {
     "data": {
      "text/html": [
       "<div>\n",
       "<style scoped>\n",
       "    .dataframe tbody tr th:only-of-type {\n",
       "        vertical-align: middle;\n",
       "    }\n",
       "\n",
       "    .dataframe tbody tr th {\n",
       "        vertical-align: top;\n",
       "    }\n",
       "\n",
       "    .dataframe thead th {\n",
       "        text-align: right;\n",
       "    }\n",
       "</style>\n",
       "<table border=\"1\" class=\"dataframe\">\n",
       "  <thead>\n",
       "    <tr style=\"text-align: right;\">\n",
       "      <th></th>\n",
       "      <th>title</th>\n",
       "      <th>studio</th>\n",
       "      <th>domestic_gross</th>\n",
       "      <th>foreign_gross</th>\n",
       "      <th>year</th>\n",
       "    </tr>\n",
       "  </thead>\n",
       "  <tbody>\n",
       "    <tr>\n",
       "      <th>1872</th>\n",
       "      <td>Star Wars: The Force Awakens</td>\n",
       "      <td>BV</td>\n",
       "      <td>936700000.0</td>\n",
       "      <td>NaN</td>\n",
       "      <td>2015</td>\n",
       "    </tr>\n",
       "    <tr>\n",
       "      <th>3080</th>\n",
       "      <td>Black Panther</td>\n",
       "      <td>BV</td>\n",
       "      <td>700100000.0</td>\n",
       "      <td>646900000.0</td>\n",
       "      <td>2018</td>\n",
       "    </tr>\n",
       "    <tr>\n",
       "      <th>3079</th>\n",
       "      <td>Avengers: Infinity War</td>\n",
       "      <td>BV</td>\n",
       "      <td>678800000.0</td>\n",
       "      <td>NaN</td>\n",
       "      <td>2018</td>\n",
       "    </tr>\n",
       "    <tr>\n",
       "      <th>1873</th>\n",
       "      <td>Jurassic World</td>\n",
       "      <td>Uni.</td>\n",
       "      <td>652300000.0</td>\n",
       "      <td>NaN</td>\n",
       "      <td>2015</td>\n",
       "    </tr>\n",
       "    <tr>\n",
       "      <th>727</th>\n",
       "      <td>Marvel's The Avengers</td>\n",
       "      <td>BV</td>\n",
       "      <td>623400000.0</td>\n",
       "      <td>895500000.0</td>\n",
       "      <td>2012</td>\n",
       "    </tr>\n",
       "  </tbody>\n",
       "</table>\n",
       "</div>"
      ],
      "text/plain": [
       "                             title studio  domestic_gross  foreign_gross  year\n",
       "1872  Star Wars: The Force Awakens     BV     936700000.0            NaN  2015\n",
       "3080                 Black Panther     BV     700100000.0    646900000.0  2018\n",
       "3079        Avengers: Infinity War     BV     678800000.0            NaN  2018\n",
       "1873                Jurassic World   Uni.     652300000.0            NaN  2015\n",
       "727          Marvel's The Avengers     BV     623400000.0    895500000.0  2012"
      ]
     },
     "execution_count": 161,
     "metadata": {},
     "output_type": "execute_result"
    }
   ],
   "source": [
    "#top 5 most sold movies based on domestic_gross \n",
    "data.sort_values(by=['domestic_gross'], ascending=False).head(5)\n"
   ]
  },
  {
   "cell_type": "code",
   "execution_count": 162,
   "id": "205f0c3c5ca1cfa8",
   "metadata": {
    "ExecuteTime": {
     "end_time": "2023-12-06T15:38:05.146722Z",
     "start_time": "2023-12-06T15:38:04.919760Z"
    }
   },
   "outputs": [
    {
     "data": {
      "image/png": "[encoded data removed]",
      "text/plain": [
       "<Figure size 640x480 with 1 Axes>"
      ]
     },
     "metadata": {},
     "output_type": "display_data"
    }
   ],
   "source": [
    "#Top 5 most sold movies based on domestic_gross line graph add labels and title and point values slank x and y axis¶\n",
    "data.sort_values(by=['domestic_gross'], ascending=False).head(5).plot(kind='bar', x='title', y='domestic_gross', color='green')\n",
    "plt.xlabel('Movie Title')\n",
    "plt.ylabel('Domestic Gross')\n",
    "plt.title('Top 5 Movies Based on Domestic Gross')\n",
    "plt.show()\n"
   ]
  },
  {
   "cell_type": "markdown",
   "id": "73bc7909",
   "metadata": {},
   "source": [
    "# Top five most sold movies based on foreign-gross"
   ]
  },
  {
   "cell_type": "code",
   "execution_count": 164,
   "id": "b7cdf1660a45d5da",
   "metadata": {
    "ExecuteTime": {
     "end_time": "2023-12-06T15:38:07.161930Z",
     "start_time": "2023-12-06T15:38:07.154095Z"
    }
   },
   "outputs": [
    {
     "data": {
      "text/html": [
       "<div>\n",
       "<style scoped>\n",
       "    .dataframe tbody tr th:only-of-type {\n",
       "        vertical-align: middle;\n",
       "    }\n",
       "\n",
       "    .dataframe tbody tr th {\n",
       "        vertical-align: top;\n",
       "    }\n",
       "\n",
       "    .dataframe thead th {\n",
       "        text-align: right;\n",
       "    }\n",
       "</style>\n",
       "<table border=\"1\" class=\"dataframe\">\n",
       "  <thead>\n",
       "    <tr style=\"text-align: right;\">\n",
       "      <th></th>\n",
       "      <th>title</th>\n",
       "      <th>studio</th>\n",
       "      <th>domestic_gross</th>\n",
       "      <th>foreign_gross</th>\n",
       "      <th>year</th>\n",
       "    </tr>\n",
       "  </thead>\n",
       "  <tbody>\n",
       "    <tr>\n",
       "      <th>328</th>\n",
       "      <td>Harry Potter and the Deathly Hallows Part 2</td>\n",
       "      <td>WB</td>\n",
       "      <td>381000000.0</td>\n",
       "      <td>960500000.0</td>\n",
       "      <td>2011</td>\n",
       "    </tr>\n",
       "    <tr>\n",
       "      <th>1875</th>\n",
       "      <td>Avengers: Age of Ultron</td>\n",
       "      <td>BV</td>\n",
       "      <td>459000000.0</td>\n",
       "      <td>946400000.0</td>\n",
       "      <td>2015</td>\n",
       "    </tr>\n",
       "    <tr>\n",
       "      <th>727</th>\n",
       "      <td>Marvel's The Avengers</td>\n",
       "      <td>BV</td>\n",
       "      <td>623400000.0</td>\n",
       "      <td>895500000.0</td>\n",
       "      <td>2012</td>\n",
       "    </tr>\n",
       "    <tr>\n",
       "      <th>3081</th>\n",
       "      <td>Jurassic World: Fallen Kingdom</td>\n",
       "      <td>Uni.</td>\n",
       "      <td>417700000.0</td>\n",
       "      <td>891800000.0</td>\n",
       "      <td>2018</td>\n",
       "    </tr>\n",
       "    <tr>\n",
       "      <th>1127</th>\n",
       "      <td>Frozen</td>\n",
       "      <td>BV</td>\n",
       "      <td>400700000.0</td>\n",
       "      <td>875700000.0</td>\n",
       "      <td>2013</td>\n",
       "    </tr>\n",
       "  </tbody>\n",
       "</table>\n",
       "</div>"
      ],
      "text/plain": [
       "                                            title studio  domestic_gross  \\\n",
       "328   Harry Potter and the Deathly Hallows Part 2     WB     381000000.0   \n",
       "1875                      Avengers: Age of Ultron     BV     459000000.0   \n",
       "727                         Marvel's The Avengers     BV     623400000.0   \n",
       "3081               Jurassic World: Fallen Kingdom   Uni.     417700000.0   \n",
       "1127                                       Frozen     BV     400700000.0   \n",
       "\n",
       "      foreign_gross  year  \n",
       "328     960500000.0  2011  \n",
       "1875    946400000.0  2015  \n",
       "727     895500000.0  2012  \n",
       "3081    891800000.0  2018  \n",
       "1127    875700000.0  2013  "
      ]
     },
     "execution_count": 164,
     "metadata": {},
     "output_type": "execute_result"
    }
   ],
   "source": [
    "#top 5 most sold movies based on foreign_gross\n",
    "data.sort_values(by=['foreign_gross'], ascending=False).head(5)"
   ]
  },
  {
   "cell_type": "code",
   "execution_count": 165,
   "id": "2ccb49058e5fb310",
   "metadata": {
    "ExecuteTime": {
     "end_time": "2023-12-06T15:38:10.066346Z",
     "start_time": "2023-12-06T15:38:09.791585Z"
    },
    "scrolled": true
   },
   "outputs": [
    {
     "data": {
      "image/png": "[encoded data removed]",
      "text/plain": [
       "<Figure size 640x480 with 1 Axes>"
      ]
     },
     "metadata": {},
     "output_type": "display_data"
    }
   ],
   "source": [
    "#plot the top 5 most sold movies based on foreign_gross line graph add labels and title and point values\n",
    "data.sort_values(by=['foreign_gross'], ascending=False).head(5).plot(kind='bar', x='title', y='foreign_gross')\n",
    "plt.xlabel('Movie Title')\n",
    "plt.ylabel('Foreign Gross')\n",
    "plt.title('Top 5 Movies Based on Foreign Gross')\n",
    "plt.show()"
   ]
  },
  {
   "cell_type": "markdown",
   "id": "24acd21c",
   "metadata": {},
   "source": [
    "# The most sold movie title based on year"
   ]
  },
  {
   "cell_type": "code",
   "execution_count": 166,
   "id": "4c8d829ce2da35b8",
   "metadata": {
    "ExecuteTime": {
     "end_time": "2023-12-06T15:38:10.547421Z",
     "start_time": "2023-12-06T15:38:10.486185Z"
    }
   },
   "outputs": [
    {
     "data": {
      "text/plain": [
       "title             Avengers: Infinity War\n",
       "studio                                BV\n",
       "domestic_gross               678800000.0\n",
       "foreign_gross                        NaN\n",
       "year                                2018\n",
       "Name: 3079, dtype: object"
      ]
     },
     "execution_count": 166,
     "metadata": {},
     "output_type": "execute_result"
    }
   ],
   "source": [
    "#find the most sold movie title based on year\n",
    "data.loc[data['year'].idxmax()]"
   ]
  },
  {
   "cell_type": "markdown",
   "id": "fba20993",
   "metadata": {},
   "source": [
    "# Top five most sold movies based on year "
   ]
  },
  {
   "cell_type": "code",
   "execution_count": 167,
   "id": "f574809562d86aaf",
   "metadata": {
    "ExecuteTime": {
     "end_time": "2023-12-06T15:38:11.975331Z",
     "start_time": "2023-12-06T15:38:11.929336Z"
    }
   },
   "outputs": [
    {
     "data": {
      "text/html": [
       "<div>\n",
       "<style scoped>\n",
       "    .dataframe tbody tr th:only-of-type {\n",
       "        vertical-align: middle;\n",
       "    }\n",
       "\n",
       "    .dataframe tbody tr th {\n",
       "        vertical-align: top;\n",
       "    }\n",
       "\n",
       "    .dataframe thead th {\n",
       "        text-align: right;\n",
       "    }\n",
       "</style>\n",
       "<table border=\"1\" class=\"dataframe\">\n",
       "  <thead>\n",
       "    <tr style=\"text-align: right;\">\n",
       "      <th></th>\n",
       "      <th>title</th>\n",
       "      <th>studio</th>\n",
       "      <th>domestic_gross</th>\n",
       "      <th>foreign_gross</th>\n",
       "      <th>year</th>\n",
       "    </tr>\n",
       "  </thead>\n",
       "  <tbody>\n",
       "    <tr>\n",
       "      <th>3386</th>\n",
       "      <td>An Actor Prepares</td>\n",
       "      <td>Grav.</td>\n",
       "      <td>1700.0</td>\n",
       "      <td>NaN</td>\n",
       "      <td>2018</td>\n",
       "    </tr>\n",
       "    <tr>\n",
       "      <th>3183</th>\n",
       "      <td>On the Basis of Sex</td>\n",
       "      <td>Focus</td>\n",
       "      <td>24600000.0</td>\n",
       "      <td>13600000.0</td>\n",
       "      <td>2018</td>\n",
       "    </tr>\n",
       "    <tr>\n",
       "      <th>3176</th>\n",
       "      <td>Tyler Perry's Acrimony</td>\n",
       "      <td>LGF</td>\n",
       "      <td>43500000.0</td>\n",
       "      <td>2900000.0</td>\n",
       "      <td>2018</td>\n",
       "    </tr>\n",
       "    <tr>\n",
       "      <th>3177</th>\n",
       "      <td>Mary Queen of Scots</td>\n",
       "      <td>Focus</td>\n",
       "      <td>16500000.0</td>\n",
       "      <td>29900000.0</td>\n",
       "      <td>2018</td>\n",
       "    </tr>\n",
       "    <tr>\n",
       "      <th>3178</th>\n",
       "      <td>The Possession of Hannah Grace</td>\n",
       "      <td>SGem</td>\n",
       "      <td>14800000.0</td>\n",
       "      <td>28200000.0</td>\n",
       "      <td>2018</td>\n",
       "    </tr>\n",
       "  </tbody>\n",
       "</table>\n",
       "</div>"
      ],
      "text/plain": [
       "                               title studio  domestic_gross  foreign_gross  \\\n",
       "3386               An Actor Prepares  Grav.          1700.0            NaN   \n",
       "3183             On the Basis of Sex  Focus      24600000.0     13600000.0   \n",
       "3176          Tyler Perry's Acrimony    LGF      43500000.0      2900000.0   \n",
       "3177             Mary Queen of Scots  Focus      16500000.0     29900000.0   \n",
       "3178  The Possession of Hannah Grace   SGem      14800000.0     28200000.0   \n",
       "\n",
       "      year  \n",
       "3386  2018  \n",
       "3183  2018  \n",
       "3176  2018  \n",
       "3177  2018  \n",
       "3178  2018  "
      ]
     },
     "execution_count": 167,
     "metadata": {},
     "output_type": "execute_result"
    }
   ],
   "source": [
    "#top 5 most sold movies based on year\n",
    "data.sort_values(by=['year'], ascending=False).head(5)\n"
   ]
  },
  {
   "cell_type": "code",
   "execution_count": 168,
   "id": "d32020d0e7062442",
   "metadata": {
    "ExecuteTime": {
     "end_time": "2023-12-06T15:38:12.668113Z",
     "start_time": "2023-12-06T15:38:12.486966Z"
    }
   },
   "outputs": [
    {
     "data": {
      "image/png": "[encoded data removed]",
      "text/plain": [
       "<Figure size 640x480 with 1 Axes>"
      ]
     },
     "metadata": {},
     "output_type": "display_data"
    }
   ],
   "source": [
    "#plot the top 5 most sold movies based on year line graph add labels and title and point values\n",
    "data.sort_values(by=['year'], ascending=False).head(5).plot(kind='bar', x='title', y='year')\n",
    "plt.xlabel('Movie Title')\n",
    "plt.ylabel('Year')\n",
    "plt.title('Top 5 Movies Based on Year')\n",
    "plt.show()"
   ]
  },
  {
   "cell_type": "code",
   "execution_count": 169,
   "id": "da4a64149ac6d5c9",
   "metadata": {
    "ExecuteTime": {
     "end_time": "2023-12-06T15:38:15.678943Z",
     "start_time": "2023-12-06T15:38:15.663964Z"
    }
   },
   "outputs": [],
   "source": [
    "#create column of total gross by adding domestic_gross and foreign_gross\n",
    "data['total_gross'] = data['domestic_gross'] + data['foreign_gross']\n"
   ]
  },
  {
   "cell_type": "code",
   "execution_count": 170,
   "id": "ca1687f74cc6c349",
   "metadata": {
    "ExecuteTime": {
     "end_time": "2023-12-06T15:38:18.916905Z",
     "start_time": "2023-12-06T15:38:18.893505Z"
    }
   },
   "outputs": [
    {
     "data": {
      "text/html": [
       "<div>\n",
       "<style scoped>\n",
       "    .dataframe tbody tr th:only-of-type {\n",
       "        vertical-align: middle;\n",
       "    }\n",
       "\n",
       "    .dataframe tbody tr th {\n",
       "        vertical-align: top;\n",
       "    }\n",
       "\n",
       "    .dataframe thead th {\n",
       "        text-align: right;\n",
       "    }\n",
       "</style>\n",
       "<table border=\"1\" class=\"dataframe\">\n",
       "  <thead>\n",
       "    <tr style=\"text-align: right;\">\n",
       "      <th></th>\n",
       "      <th>title</th>\n",
       "      <th>studio</th>\n",
       "      <th>domestic_gross</th>\n",
       "      <th>foreign_gross</th>\n",
       "      <th>year</th>\n",
       "      <th>total_gross</th>\n",
       "    </tr>\n",
       "  </thead>\n",
       "  <tbody>\n",
       "    <tr>\n",
       "      <th>0</th>\n",
       "      <td>Toy Story 3</td>\n",
       "      <td>BV</td>\n",
       "      <td>415000000.0</td>\n",
       "      <td>652000000.0</td>\n",
       "      <td>2010</td>\n",
       "      <td>1.067000e+09</td>\n",
       "    </tr>\n",
       "    <tr>\n",
       "      <th>1</th>\n",
       "      <td>Alice in Wonderland (2010)</td>\n",
       "      <td>BV</td>\n",
       "      <td>334200000.0</td>\n",
       "      <td>691300000.0</td>\n",
       "      <td>2010</td>\n",
       "      <td>1.025500e+09</td>\n",
       "    </tr>\n",
       "    <tr>\n",
       "      <th>2</th>\n",
       "      <td>Harry Potter and the Deathly Hallows Part 1</td>\n",
       "      <td>WB</td>\n",
       "      <td>296000000.0</td>\n",
       "      <td>664300000.0</td>\n",
       "      <td>2010</td>\n",
       "      <td>9.603000e+08</td>\n",
       "    </tr>\n",
       "    <tr>\n",
       "      <th>3</th>\n",
       "      <td>Inception</td>\n",
       "      <td>WB</td>\n",
       "      <td>292600000.0</td>\n",
       "      <td>535700000.0</td>\n",
       "      <td>2010</td>\n",
       "      <td>8.283000e+08</td>\n",
       "    </tr>\n",
       "    <tr>\n",
       "      <th>4</th>\n",
       "      <td>Shrek Forever After</td>\n",
       "      <td>P/DW</td>\n",
       "      <td>238700000.0</td>\n",
       "      <td>513900000.0</td>\n",
       "      <td>2010</td>\n",
       "      <td>7.526000e+08</td>\n",
       "    </tr>\n",
       "  </tbody>\n",
       "</table>\n",
       "</div>"
      ],
      "text/plain": [
       "                                         title studio  domestic_gross  \\\n",
       "0                                  Toy Story 3     BV     415000000.0   \n",
       "1                   Alice in Wonderland (2010)     BV     334200000.0   \n",
       "2  Harry Potter and the Deathly Hallows Part 1     WB     296000000.0   \n",
       "3                                    Inception     WB     292600000.0   \n",
       "4                          Shrek Forever After   P/DW     238700000.0   \n",
       "\n",
       "   foreign_gross  year   total_gross  \n",
       "0    652000000.0  2010  1.067000e+09  \n",
       "1    691300000.0  2010  1.025500e+09  \n",
       "2    664300000.0  2010  9.603000e+08  \n",
       "3    535700000.0  2010  8.283000e+08  \n",
       "4    513900000.0  2010  7.526000e+08  "
      ]
     },
     "execution_count": 170,
     "metadata": {},
     "output_type": "execute_result"
    }
   ],
   "source": [
    "data.head()"
   ]
  },
  {
   "cell_type": "markdown",
   "id": "26c3d546",
   "metadata": {},
   "source": [
    "# The most sold movie title based on total_gross"
   ]
  },
  {
   "cell_type": "code",
   "execution_count": 171,
   "id": "3f606dc64c85da6e",
   "metadata": {
    "ExecuteTime": {
     "end_time": "2023-12-06T15:38:20.057306Z",
     "start_time": "2023-12-06T15:38:20.021433Z"
    }
   },
   "outputs": [
    {
     "data": {
      "text/plain": [
       "title             Marvel's The Avengers\n",
       "studio                               BV\n",
       "domestic_gross              623400000.0\n",
       "foreign_gross               895500000.0\n",
       "year                               2012\n",
       "total_gross                1518900000.0\n",
       "Name: 727, dtype: object"
      ]
     },
     "execution_count": 171,
     "metadata": {},
     "output_type": "execute_result"
    }
   ],
   "source": [
    "#find the most sold movie title based on total_gross\n",
    "data.loc[data['total_gross'].idxmax()]"
   ]
  },
  {
   "cell_type": "markdown",
   "id": "d4bdc2ec",
   "metadata": {},
   "source": [
    "# Top five most sold movies based on total gross"
   ]
  },
  {
   "cell_type": "code",
   "execution_count": 172,
   "id": "7c40df0885d86945",
   "metadata": {
    "ExecuteTime": {
     "end_time": "2023-12-06T15:38:22.046909Z",
     "start_time": "2023-12-06T15:38:22.014516Z"
    }
   },
   "outputs": [
    {
     "data": {
      "text/html": [
       "<div>\n",
       "<style scoped>\n",
       "    .dataframe tbody tr th:only-of-type {\n",
       "        vertical-align: middle;\n",
       "    }\n",
       "\n",
       "    .dataframe tbody tr th {\n",
       "        vertical-align: top;\n",
       "    }\n",
       "\n",
       "    .dataframe thead th {\n",
       "        text-align: right;\n",
       "    }\n",
       "</style>\n",
       "<table border=\"1\" class=\"dataframe\">\n",
       "  <thead>\n",
       "    <tr style=\"text-align: right;\">\n",
       "      <th></th>\n",
       "      <th>title</th>\n",
       "      <th>studio</th>\n",
       "      <th>domestic_gross</th>\n",
       "      <th>foreign_gross</th>\n",
       "      <th>year</th>\n",
       "      <th>total_gross</th>\n",
       "    </tr>\n",
       "  </thead>\n",
       "  <tbody>\n",
       "    <tr>\n",
       "      <th>727</th>\n",
       "      <td>Marvel's The Avengers</td>\n",
       "      <td>BV</td>\n",
       "      <td>623400000.0</td>\n",
       "      <td>895500000.0</td>\n",
       "      <td>2012</td>\n",
       "      <td>1.518900e+09</td>\n",
       "    </tr>\n",
       "    <tr>\n",
       "      <th>1875</th>\n",
       "      <td>Avengers: Age of Ultron</td>\n",
       "      <td>BV</td>\n",
       "      <td>459000000.0</td>\n",
       "      <td>946400000.0</td>\n",
       "      <td>2015</td>\n",
       "      <td>1.405400e+09</td>\n",
       "    </tr>\n",
       "    <tr>\n",
       "      <th>3080</th>\n",
       "      <td>Black Panther</td>\n",
       "      <td>BV</td>\n",
       "      <td>700100000.0</td>\n",
       "      <td>646900000.0</td>\n",
       "      <td>2018</td>\n",
       "      <td>1.347000e+09</td>\n",
       "    </tr>\n",
       "    <tr>\n",
       "      <th>328</th>\n",
       "      <td>Harry Potter and the Deathly Hallows Part 2</td>\n",
       "      <td>WB</td>\n",
       "      <td>381000000.0</td>\n",
       "      <td>960500000.0</td>\n",
       "      <td>2011</td>\n",
       "      <td>1.341500e+09</td>\n",
       "    </tr>\n",
       "    <tr>\n",
       "      <th>2758</th>\n",
       "      <td>Star Wars: The Last Jedi</td>\n",
       "      <td>BV</td>\n",
       "      <td>620200000.0</td>\n",
       "      <td>712400000.0</td>\n",
       "      <td>2017</td>\n",
       "      <td>1.332600e+09</td>\n",
       "    </tr>\n",
       "  </tbody>\n",
       "</table>\n",
       "</div>"
      ],
      "text/plain": [
       "                                            title studio  domestic_gross  \\\n",
       "727                         Marvel's The Avengers     BV     623400000.0   \n",
       "1875                      Avengers: Age of Ultron     BV     459000000.0   \n",
       "3080                                Black Panther     BV     700100000.0   \n",
       "328   Harry Potter and the Deathly Hallows Part 2     WB     381000000.0   \n",
       "2758                     Star Wars: The Last Jedi     BV     620200000.0   \n",
       "\n",
       "      foreign_gross  year   total_gross  \n",
       "727     895500000.0  2012  1.518900e+09  \n",
       "1875    946400000.0  2015  1.405400e+09  \n",
       "3080    646900000.0  2018  1.347000e+09  \n",
       "328     960500000.0  2011  1.341500e+09  \n",
       "2758    712400000.0  2017  1.332600e+09  "
      ]
     },
     "execution_count": 172,
     "metadata": {},
     "output_type": "execute_result"
    }
   ],
   "source": [
    "#top 5 most sold movies based on total_gross\n",
    "data.sort_values(by=['total_gross'], ascending=False).head(5)"
   ]
  },
  {
   "cell_type": "markdown",
   "id": "30f9cd00",
   "metadata": {},
   "source": [
    "# Last five most sold movies based on total_gross"
   ]
  },
  {
   "cell_type": "code",
   "execution_count": 178,
   "id": "5ddbc83838b4dd00",
   "metadata": {
    "ExecuteTime": {
     "end_time": "2023-12-06T15:51:11.110063Z",
     "start_time": "2023-12-06T15:51:10.969890Z"
    }
   },
   "outputs": [
    {
     "data": {
      "text/html": [
       "<div>\n",
       "<style scoped>\n",
       "    .dataframe tbody tr th:only-of-type {\n",
       "        vertical-align: middle;\n",
       "    }\n",
       "\n",
       "    .dataframe tbody tr th {\n",
       "        vertical-align: top;\n",
       "    }\n",
       "\n",
       "    .dataframe thead th {\n",
       "        text-align: right;\n",
       "    }\n",
       "</style>\n",
       "<table border=\"1\" class=\"dataframe\">\n",
       "  <thead>\n",
       "    <tr style=\"text-align: right;\">\n",
       "      <th></th>\n",
       "      <th>title</th>\n",
       "      <th>studio</th>\n",
       "      <th>domestic_gross</th>\n",
       "      <th>foreign_gross</th>\n",
       "      <th>year</th>\n",
       "      <th>total_gross</th>\n",
       "    </tr>\n",
       "  </thead>\n",
       "  <tbody>\n",
       "    <tr>\n",
       "      <th>3382</th>\n",
       "      <td>The Quake</td>\n",
       "      <td>Magn.</td>\n",
       "      <td>6200.0</td>\n",
       "      <td>NaN</td>\n",
       "      <td>2018</td>\n",
       "      <td>NaN</td>\n",
       "    </tr>\n",
       "    <tr>\n",
       "      <th>3383</th>\n",
       "      <td>Edward II (2018 re-release)</td>\n",
       "      <td>FM</td>\n",
       "      <td>4800.0</td>\n",
       "      <td>NaN</td>\n",
       "      <td>2018</td>\n",
       "      <td>NaN</td>\n",
       "    </tr>\n",
       "    <tr>\n",
       "      <th>3384</th>\n",
       "      <td>El Pacto</td>\n",
       "      <td>Sony</td>\n",
       "      <td>2500.0</td>\n",
       "      <td>NaN</td>\n",
       "      <td>2018</td>\n",
       "      <td>NaN</td>\n",
       "    </tr>\n",
       "    <tr>\n",
       "      <th>3385</th>\n",
       "      <td>The Swan</td>\n",
       "      <td>Synergetic</td>\n",
       "      <td>2400.0</td>\n",
       "      <td>NaN</td>\n",
       "      <td>2018</td>\n",
       "      <td>NaN</td>\n",
       "    </tr>\n",
       "    <tr>\n",
       "      <th>3386</th>\n",
       "      <td>An Actor Prepares</td>\n",
       "      <td>Grav.</td>\n",
       "      <td>1700.0</td>\n",
       "      <td>NaN</td>\n",
       "      <td>2018</td>\n",
       "      <td>NaN</td>\n",
       "    </tr>\n",
       "  </tbody>\n",
       "</table>\n",
       "</div>"
      ],
      "text/plain": [
       "                            title      studio  domestic_gross  foreign_gross  \\\n",
       "3382                    The Quake       Magn.          6200.0            NaN   \n",
       "3383  Edward II (2018 re-release)          FM          4800.0            NaN   \n",
       "3384                     El Pacto        Sony          2500.0            NaN   \n",
       "3385                     The Swan  Synergetic          2400.0            NaN   \n",
       "3386            An Actor Prepares       Grav.          1700.0            NaN   \n",
       "\n",
       "      year  total_gross  \n",
       "3382  2018          NaN  \n",
       "3383  2018          NaN  \n",
       "3384  2018          NaN  \n",
       "3385  2018          NaN  \n",
       "3386  2018          NaN  "
      ]
     },
     "execution_count": 178,
     "metadata": {},
     "output_type": "execute_result"
    }
   ],
   "source": [
    "#last 5 most sold movies based on total_gross\n",
    "data.sort_values(by=['total_gross'], ascending=False).tail(5)"
   ]
  },
  {
   "cell_type": "markdown",
   "id": "e2a20a14",
   "metadata": {
    "ExecuteTime": {
     "end_time": "2023-12-06T15:38:23.588064Z",
     "start_time": "2023-12-06T15:38:23.403309Z"
    }
   },
   "source": [
    "#plot the top 5 most sold movies based on total_gross line graph add labels and title and point values\n",
    "data.sort_values(by=['total_gross'], ascending=False).head(5).plot(kind='bar', x='title', y='total_gross')\n",
    "plt.xlabel('Movie Title')\n",
    "plt.ylabel('Total Gross')\n",
    "plt.title('Top 5 Movies Based on Total Gross')\n",
    "plt.show()\n"
   ]
  },
  {
   "cell_type": "markdown",
   "id": "d403fe1d",
   "metadata": {},
   "source": [
    "# Best year based on total_gross and year"
   ]
  },
  {
   "cell_type": "code",
   "execution_count": 174,
   "id": "a2821587e520ec6b",
   "metadata": {
    "ExecuteTime": {
     "end_time": "2023-12-06T15:38:27.696375Z",
     "start_time": "2023-12-06T15:38:27.659179Z"
    }
   },
   "outputs": [
    {
     "data": {
      "text/plain": [
       "title             Marvel's The Avengers\n",
       "studio                               BV\n",
       "domestic_gross              623400000.0\n",
       "foreign_gross               895500000.0\n",
       "year                               2012\n",
       "total_gross                1518900000.0\n",
       "Name: 727, dtype: object"
      ]
     },
     "execution_count": 174,
     "metadata": {},
     "output_type": "execute_result"
    }
   ],
   "source": [
    "#find the best year based on total_gross and year \n",
    "\n",
    "data.loc[data['total_gross'].idxmax()]\n"
   ]
  },
  {
   "cell_type": "code",
   "execution_count": 175,
   "id": "df35357b50903170",
   "metadata": {
    "ExecuteTime": {
     "end_time": "2023-12-06T15:38:28.426414Z",
     "start_time": "2023-12-06T15:38:28.392725Z"
    }
   },
   "outputs": [
    {
     "data": {
      "text/html": [
       "<div>\n",
       "<style scoped>\n",
       "    .dataframe tbody tr th:only-of-type {\n",
       "        vertical-align: middle;\n",
       "    }\n",
       "\n",
       "    .dataframe tbody tr th {\n",
       "        vertical-align: top;\n",
       "    }\n",
       "\n",
       "    .dataframe thead th {\n",
       "        text-align: right;\n",
       "    }\n",
       "</style>\n",
       "<table border=\"1\" class=\"dataframe\">\n",
       "  <thead>\n",
       "    <tr style=\"text-align: right;\">\n",
       "      <th></th>\n",
       "      <th>title</th>\n",
       "      <th>studio</th>\n",
       "      <th>domestic_gross</th>\n",
       "      <th>foreign_gross</th>\n",
       "      <th>year</th>\n",
       "      <th>total_gross</th>\n",
       "    </tr>\n",
       "  </thead>\n",
       "  <tbody>\n",
       "    <tr>\n",
       "      <th>727</th>\n",
       "      <td>Marvel's The Avengers</td>\n",
       "      <td>BV</td>\n",
       "      <td>623400000.0</td>\n",
       "      <td>895500000.0</td>\n",
       "      <td>2012</td>\n",
       "      <td>1.518900e+09</td>\n",
       "    </tr>\n",
       "    <tr>\n",
       "      <th>1875</th>\n",
       "      <td>Avengers: Age of Ultron</td>\n",
       "      <td>BV</td>\n",
       "      <td>459000000.0</td>\n",
       "      <td>946400000.0</td>\n",
       "      <td>2015</td>\n",
       "      <td>1.405400e+09</td>\n",
       "    </tr>\n",
       "    <tr>\n",
       "      <th>3080</th>\n",
       "      <td>Black Panther</td>\n",
       "      <td>BV</td>\n",
       "      <td>700100000.0</td>\n",
       "      <td>646900000.0</td>\n",
       "      <td>2018</td>\n",
       "      <td>1.347000e+09</td>\n",
       "    </tr>\n",
       "    <tr>\n",
       "      <th>328</th>\n",
       "      <td>Harry Potter and the Deathly Hallows Part 2</td>\n",
       "      <td>WB</td>\n",
       "      <td>381000000.0</td>\n",
       "      <td>960500000.0</td>\n",
       "      <td>2011</td>\n",
       "      <td>1.341500e+09</td>\n",
       "    </tr>\n",
       "    <tr>\n",
       "      <th>2758</th>\n",
       "      <td>Star Wars: The Last Jedi</td>\n",
       "      <td>BV</td>\n",
       "      <td>620200000.0</td>\n",
       "      <td>712400000.0</td>\n",
       "      <td>2017</td>\n",
       "      <td>1.332600e+09</td>\n",
       "    </tr>\n",
       "  </tbody>\n",
       "</table>\n",
       "</div>"
      ],
      "text/plain": [
       "                                            title studio  domestic_gross  \\\n",
       "727                         Marvel's The Avengers     BV     623400000.0   \n",
       "1875                      Avengers: Age of Ultron     BV     459000000.0   \n",
       "3080                                Black Panther     BV     700100000.0   \n",
       "328   Harry Potter and the Deathly Hallows Part 2     WB     381000000.0   \n",
       "2758                     Star Wars: The Last Jedi     BV     620200000.0   \n",
       "\n",
       "      foreign_gross  year   total_gross  \n",
       "727     895500000.0  2012  1.518900e+09  \n",
       "1875    946400000.0  2015  1.405400e+09  \n",
       "3080    646900000.0  2018  1.347000e+09  \n",
       "328     960500000.0  2011  1.341500e+09  \n",
       "2758    712400000.0  2017  1.332600e+09  "
      ]
     },
     "execution_count": 175,
     "metadata": {},
     "output_type": "execute_result"
    }
   ],
   "source": [
    "# sort the data total_gross in descending order and output the top 5 years\n",
    "data.sort_values(by=['total_gross'], ascending=False).head(5)\n"
   ]
  },
  {
   "cell_type": "code",
   "execution_count": 176,
   "id": "2122595172b6be17",
   "metadata": {
    "ExecuteTime": {
     "end_time": "2023-12-06T15:38:28.900312Z",
     "start_time": "2023-12-06T15:38:28.729596Z"
    }
   },
   "outputs": [
    {
     "data": {
      "image/png": "[encoded data removed]",
      "text/plain": [
       "<Figure size 640x480 with 1 Axes>"
      ]
     },
     "metadata": {},
     "output_type": "display_data"
    }
   ],
   "source": [
    "#plot line graph with point values of unique years and total_gross using seaborn add total gross values in the line plot \n",
    "\n",
    "sns.lineplot(x='year', y='total_gross', data=data, color='red', marker='o', ci=None, markersize=10)\n",
    "plt.xlabel('Year')\n",
    "plt.ylabel('Total Gross')\n",
    "plt.title('Total Gross by Year')\n",
    "plt.show()\n",
    "\n"
   ]
  },
  {
   "cell_type": "code",
   "execution_count": 177,
   "id": "2358625c7be307cd",
   "metadata": {
    "ExecuteTime": {
     "end_time": "2023-12-06T15:38:29.053449Z",
     "start_time": "2023-12-06T15:38:29.028258Z"
    }
   },
   "outputs": [
    {
     "name": "stdout",
     "output_type": "stream",
     "text": [
      " Unique years Count\n",
      "9\n",
      " Unique studios Count\n",
      "257\n"
     ]
    }
   ],
   "source": [
    "#count unique years in the data and unique studios output in same output \n",
    "\n",
    "print( \" Unique years Count\")\n",
    "print(data['year'].nunique())\n",
    "\n",
    "print( \" Unique studios Count\")\n",
    "print(data['studio'].nunique())\n"
   ]
  },
  {
   "cell_type": "markdown",
   "id": "4696834b",
   "metadata": {
    "ExecuteTime": {
     "end_time": "2023-12-06T15:38:29.240551Z",
     "start_time": "2023-12-06T15:38:29.217844Z"
    }
   },
   "source": [
    "# Recommendations for the business \n",
    "1.Partner with High_level Studios like 'BV'. Based on the analysis ,'Bv' studio is the choice for movies business because as it's likely to get foreign and domestic viewership.\n",
    "\n",
    "2.Focusing on movies with foreign gross has value and also movies a bit old in the market.\n",
    "movies with a substantial foreign gross indicate a broad international appeal. It allows the studio to tap into diverse markets and maximize revenue potential.The studio can also establish a strong global presence and generate income streams beyond domestic markets.On the other hand,movies that have stayed in the market for quite sometime have gained popularity. They have demonstrated their staying power and continued audience interest over an extended period.\n",
    "\n",
    "3.\"Marvel's The Avengers\" had the highest Gross sales.It is the movie to go for.It stands out as the top performer in terms of gross sales, making it the optimal choice for consideration. This is based on the film's undeniable success and widespread appeal.The film's success is indicative of its captivating storyline, compelling characters, and effective marketing strategies. \n",
    "\n",
    "4.Most recent movies without foreign gross sales,especially the ones from Grav and specifically \"An actor Prepares \"performed the worst,so it isn't a good idear to stock it. \n"
   ]
  },
  {
   "cell_type": "code",
   "execution_count": null,
   "id": "170ff271",
   "metadata": {},
   "outputs": [],
   "source": []
  }
 ],
 "metadata": {
  "kernelspec": {
   "display_name": "Python 3 (ipykernel)",
   "language": "python",
   "name": "python3"
  },
  "language_info": {
   "codemirror_mode": {
    "name": "ipython",
    "version": 3
   },
   "file_extension": ".py",
   "mimetype": "text/x-python",
   "name": "python",
   "nbconvert_exporter": "python",
   "pygments_lexer": "ipython3",
   "version": "3.11.5"
  }
 },
 "nbformat": 4,
 "nbformat_minor": 5
}
